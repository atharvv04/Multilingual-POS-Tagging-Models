{
  "cells": [
    {
      "cell_type": "markdown",
      "metadata": {
        "id": "wBKUO0WbKSHA"
      },
      "source": [
        "NOTE: Use Zipped \"Data\" folder, which has Training, Testing, Development folders. Rename Zip as Data.zip"
      ]
    },
    {
      "cell_type": "code",
      "execution_count": null,
      "metadata": {
        "id": "ooomIDa9skyY"
      },
      "outputs": [],
      "source": []
    },
    {
      "cell_type": "code",
      "execution_count": 838,
      "metadata": {
        "id": "wIqEzO32Zity"
      },
      "outputs": [],
      "source": [
        "import random\n",
        "import numpy as np\n",
        "import pandas as pd\n",
        "import pprint, time"
      ]
    },
    {
      "cell_type": "code",
      "execution_count": 839,
      "metadata": {
        "colab": {
          "base_uri": "https://localhost:8080/"
        },
        "id": "CTLYpyUcSpEV",
        "outputId": "052910c0-e033-4c64-e309-44a3f724a58e"
      },
      "outputs": [
        {
          "name": "stdout",
          "output_type": "stream",
          "text": [
            "['“\\tPUNC', 'While\\tCCS', 'much\\tJJ', 'of\\tADP', 'the\\tDET', 'digital\\tJJ', 'transition\\tNN', 'is\\tVAUX', 'unprecedented\\tJJ', 'in\\tADP', 'the\\tDET', 'United\\tNNP', 'States\\tNNP', ',\\tPUNC', 'the\\tDET', 'peaceful\\tJJ', 'transition\\tNN', 'of\\tADP', 'power\\tNN', 'is\\tVAUX', 'not\\tRB', ',\\tPUNC', '”\\tPUNC', 'Obama\\tNNP', 'special\\tJJ', 'assistant\\tNN', 'Kori\\tNNP', 'Schulman\\tNNP', 'wrote\\tVM', 'in\\tADP', 'a\\tDET', 'blog\\tNN', 'post\\tNN', 'Monday\\tNNP', '.\\tPUNC', '', 'For\\tADP', 'those\\tPR', 'who\\tPR', 'follow\\tVM', 'social\\tJJ', 'media\\tNN', 'transitions\\tNN', 'on\\tADP', 'Capitol\\tNNP', 'Hill\\tNNP', ',\\tPUNC', 'this\\tPR', 'will\\tVAUX', 'be\\tVAUX', 'a\\tDET', 'little\\tJJ', 'different\\tJJ', '.\\tPUNC', '', 'But\\tCCD', 'in\\tADP', 'a\\tDET', 'break\\tNN', 'from\\tADP', 'his\\tPR', 'past\\tJJ', 'rhetoric\\tNN', 'about\\tADP', 'curtailing\\tVM', 'immigration\\tNN', ',\\tPUNC', 'the\\tDET', 'GOP\\tNNP', 'nominee\\tNN', 'proclaimed\\tVM', 'that\\tCCS', 'as\\tADP', 'president\\tNN', 'he\\tPR', 'would\\tVAUX', 'allow\\tVM', '“\\tPUNC', 'tremendous\\tJJ', 'numbers\\tNN', '”\\tPUNC', 'of\\tADP', 'legal\\tJJ', 'immigrants\\tNN', 'based\\tVM', 'on\\tADP', 'a\\tDET', '“\\tPUNC', 'merit\\tNN', 'system\\tNN', '.\\tPUNC', '”\\tPUNC', '', '“\\tPUNC', 'So\\tRB', 'I\\tPR', 'hate\\tVM', 'to\\tRP', 'put\\tVM', 'a\\tDET', 'little\\tJJ', 'pressure\\tNN', 'on\\tADP', 'you\\tPR', ',\\tPUNC', 'but\\tCCD', 'the\\tDET', 'fate\\tNN', 'of\\tADP', 'the\\tDET', 'republic\\tNN', 'rests\\tVM', 'on\\tADP', 'your\\tPR', 'shoulders\\tNN', ',\\tPUNC', '”\\tPUNC', 'he\\tPR', 'told\\tVM', 'the\\tDET', 'crowd\\tNN', 'gathered\\tVM', 'on\\tADP', 'a\\tDET', 'sports\\tNN', 'field\\tNN', 'at\\tADP', 'the\\tDET', 'University\\tNNP', 'of\\tADP', 'North\\tNNP', 'Carolina\\tNNP', '.\\tPUNC', '', 'The\\tDET', 'new\\tJJ', 'spending\\tNN', 'is\\tVAUX', 'fueled\\tVM', 'by\\tADP', 'Clinton\\tNNP', '’s\\tRP', 'large\\tJJ', 'bank\\tNN', 'account\\tNN', '.\\tPUNC', '', 'What\\tPR', 'she\\tPR', '’s\\tVAUX', 'saying\\tVM', 'and\\tCCD', 'what\\tPR', 'she\\tPR', '’s\\tVAUX', 'doing\\tVM', ',\\tPUNC', 'it\\tPR', '—\\tPUNC', 'actually\\tRB', ',\\tPUNC', 'it\\tPR', '’s\\tVAUX', 'unbelievable\\tJJ', '.\\tPUNC', '', '$\\tSYM', '5,000\\tQTC', 'per\\tADP', 'person\\tNN', ',\\tPUNC', 'the\\tDET', 'maximum\\tNN', 'allowed\\tVM', '.\\tPUNC', '', 'In\\tADP', 'early\\tJJ', 'October\\tNNP', ',\\tPUNC', 'the\\tDET', 'transition\\tNN', 'team\\tNN', 'used\\tVM', 'the\\tDET', 'same\\tJJ', 'venue\\tNN', 'to\\tRP', 'meet\\tVM', 'with\\tADP', 'technology\\tNN', 'lobbyists\\tNN', ',\\tPUNC', 'inviting\\tVM', 'representatives\\tNN', 'from\\tADP', 'Uber\\tNNP', ',\\tPUNC', 'the\\tDET', 'Motion\\tNN']\n"
          ]
        }
      ],
      "source": [
        "training_file = open(\"training.txt\", \"r\", encoding= \"utf8\")\n",
        "all_lines = training_file.read().split(\"\\n\")\n",
        "training_file.close()\n",
        "print(all_lines[:200])"
      ]
    },
    {
      "cell_type": "code",
      "execution_count": 840,
      "metadata": {
        "colab": {
          "base_uri": "https://localhost:8080/"
        },
        "id": "ORCGIHK36N3n",
        "outputId": "876835d5-fb48-4e5b-aa60-a11f61da69a0"
      },
      "outputs": [
        {
          "name": "stdout",
          "output_type": "stream",
          "text": [
            "['climate    NN', 'change    NN', 'worsens    VM', 'most    RB', 'infectious    PR', 'diseases    NN', 'of    ADP', 'the    DET', 'pathogens    NN', 'known    VM', 'to    ADP', 'have    VM', 'infected    VM', 'humans     NN', ',    PUNC', 'more    RB', 'than     ADP', 'half    RB', 'may    PR', 'cause    VM', 'widespread    PR', 'disease   NN', 'as    ADP', 'a    DET', 'result    NN', 'rising    VM', 'temperatures    NN', ',    PUNC', 'precipitation    NN', 'changes    NN', ',    PUNC', 'or    CCD', 'other    PR', 'climate    NN', '-    PUNC', 'related    PR', 'factors    NN', ',    PUNC', 'a    DET', 'study    NN', 'finds    VM', '.    PUNC', '', 'the    DET', 'consequences    NN', 'of    ADP', 'climate    NN', 'change    NN', '-    PUNC', 'including    ADP', 'warming    VM', ',    PUNC', 'drought    NN', ',    PUNC', 'and    CCONJ', 'sea    NN', '-    PUNC', 'level    NN', 'rise    NN', '-    PUNC', 'worsen    VM', 'most    RB', 'infectious    PR', 'diseases    NN', 'by    ADP', 'facilitating    VM', 'transmission    NN', 'and    CCONJ', 'increasing    VM', 'the    DET', 'severity    NN', 'of      ADP', 'outbreaks    NN', ',    PUNC', 'according    ADP', 'to    ADP', 'a     DET', 'study    NN', 'published    VM', 'today     RB', '(    PUNC', 'august     NN', '8     NUM', ')    PUNC', 'in     ADP', 'nature    PROPN', 'climate     PROPN', 'change     PROPN', '.    PUNC', '', 'the    DET', 'study    NN', 'finds    VM', 'that    SCONJ', 'climate    NN', 'change     NN', 'has    VM', 'the    DET', 'potential    NN', 'to    PART', 'exacerbate    VM', 'outbreaks    NN', 'of    ADP', '58    NUM', 'percent    NN', 'of    ADP', 'the    DET', '375    NUM', 'pathogens    NN', 'that     DET', 'have    VM', 'infected    VM', 'humans    NN', 'in    ADP', 'recorded    VM', 'history     NN', '.    PUNC', '', '\"    PUNC', 'systems    NN', 'have    VM', 'been    VM', 'evolving     VM', 'for    ADP', 'millions    NUM', 'of    ADP', 'years    NN', 'and    CCONJ', 'now    RB', 'humans    NN', 'have    VM', 'come    VM', 'along    RB', 'and    CCONJ', 'changed    VM', 'things    NN', ',    PUNC', '\"    PUNC', 'study    PR', 'coauthor    NN', 'camilo    PROPN', 'mora    PROPN', 'at    ADP', 'the    DET', 'university    NN', 'of    ADP', 'hawai‘i    PROPN', 'at    ADP', 'mānoa    PROPN', 'tells    VM', 'nBC    PROPN', 'news    NN', ',    PUNC', 'adding    VM', 'that    SCONJ', '\"    PUNC', 'we    PRON', 'are    VM', 'punching    VM', 'nature    NN', ',    PUNC', 'but    CCONJ', 'nature    NN', 'is    VM', 'punching    VM', 'us    PRON', 'back    RB', '.    PUNC', '', '\"    PUNC', 'to    PART', 'assess    VM', 'the    DET', 'impact    NN', 'of    ADP', 'greenhouse    NN', 'gas    PR', 'emissions    NN', 'on    ADP', 'disease    NN', ',    PUNC', 'mora    PROPN', 'and    CCONJ', 'his    PRON', 'colleagues    NN', 'analyzed    VM', 'more    RB', 'than    ADP', '3,200    NUM', 'published    VM', 'scientific    PR', 'works    NN', ',    PUNC', 'identifying    VM', 'outbreaks    NN', 'reported    VM', 'as    ADP', 'having    VM', 'been    VM', 'intensified   PR']\n"
          ]
        }
      ],
      "source": [
        "testing_file = open(\"english_ann.txt\", \"r\", encoding= \"utf8\")\n",
        "all_lines_test = testing_file.read().split(\"\\n\")\n",
        "testing_file.close()\n",
        "print(all_lines_test[:200])"
      ]
    },
    {
      "cell_type": "markdown",
      "metadata": {
        "id": "ym3ihhFFZwIq"
      },
      "source": [
        "Read data"
      ]
    },
    {
      "cell_type": "code",
      "execution_count": 841,
      "metadata": {
        "colab": {
          "base_uri": "https://localhost:8080/"
        },
        "id": "oeqVegZwZu5t",
        "outputId": "6b598990-33ee-4ea5-a238-f0aa54bfbf01"
      },
      "outputs": [
        {
          "name": "stdout",
          "output_type": "stream",
          "text": [
            "[[['“', 'PUNC'], ['While', 'CCS'], ['much', 'JJ'], ['of', 'ADP'], ['the', 'DET'], ['digital', 'JJ'], ['transition', 'NN'], ['is', 'VAUX'], ['unprecedented', 'JJ'], ['in', 'ADP'], ['the', 'DET'], ['United', 'NNP'], ['States', 'NNP'], [',', 'PUNC'], ['the', 'DET'], ['peaceful', 'JJ'], ['transition', 'NN'], ['of', 'ADP'], ['power', 'NN'], ['is', 'VAUX'], ['not', 'RB'], [',', 'PUNC'], ['”', 'PUNC'], ['Obama', 'NNP'], ['special', 'JJ'], ['assistant', 'NN'], ['Kori', 'NNP'], ['Schulman', 'NNP'], ['wrote', 'VM'], ['in', 'ADP'], ['a', 'DET'], ['blog', 'NN'], ['post', 'NN'], ['Monday', 'NNP'], ['.', 'PUNC']], [['For', 'ADP'], ['those', 'PR'], ['who', 'PR'], ['follow', 'VM'], ['social', 'JJ'], ['media', 'NN'], ['transitions', 'NN'], ['on', 'ADP'], ['Capitol', 'NNP'], ['Hill', 'NNP'], [',', 'PUNC'], ['this', 'PR'], ['will', 'VAUX'], ['be', 'VAUX'], ['a', 'DET'], ['little', 'JJ'], ['different', 'JJ'], ['.', 'PUNC']], [['But', 'CCD'], ['in', 'ADP'], ['a', 'DET'], ['break', 'NN'], ['from', 'ADP'], ['his', 'PR'], ['past', 'JJ'], ['rhetoric', 'NN'], ['about', 'ADP'], ['curtailing', 'VM'], ['immigration', 'NN'], [',', 'PUNC'], ['the', 'DET'], ['GOP', 'NNP'], ['nominee', 'NN'], ['proclaimed', 'VM'], ['that', 'CCS'], ['as', 'ADP'], ['president', 'NN'], ['he', 'PR'], ['would', 'VAUX'], ['allow', 'VM'], ['“', 'PUNC'], ['tremendous', 'JJ'], ['numbers', 'NN'], ['”', 'PUNC'], ['of', 'ADP'], ['legal', 'JJ'], ['immigrants', 'NN'], ['based', 'VM'], ['on', 'ADP'], ['a', 'DET'], ['“', 'PUNC'], ['merit', 'NN'], ['system', 'NN'], ['.', 'PUNC'], ['”', 'PUNC']], [['“', 'PUNC'], ['So', 'RB'], ['I', 'PR'], ['hate', 'VM'], ['to', 'RP'], ['put', 'VM'], ['a', 'DET'], ['little', 'JJ'], ['pressure', 'NN'], ['on', 'ADP'], ['you', 'PR'], [',', 'PUNC'], ['but', 'CCD'], ['the', 'DET'], ['fate', 'NN'], ['of', 'ADP'], ['the', 'DET'], ['republic', 'NN'], ['rests', 'VM'], ['on', 'ADP'], ['your', 'PR'], ['shoulders', 'NN'], [',', 'PUNC'], ['”', 'PUNC'], ['he', 'PR'], ['told', 'VM'], ['the', 'DET'], ['crowd', 'NN'], ['gathered', 'VM'], ['on', 'ADP'], ['a', 'DET'], ['sports', 'NN'], ['field', 'NN'], ['at', 'ADP'], ['the', 'DET'], ['University', 'NNP'], ['of', 'ADP'], ['North', 'NNP'], ['Carolina', 'NNP'], ['.', 'PUNC']], [['The', 'DET'], ['new', 'JJ'], ['spending', 'NN'], ['is', 'VAUX'], ['fueled', 'VM'], ['by', 'ADP'], ['Clinton', 'NNP'], ['’s', 'RP'], ['large', 'JJ'], ['bank', 'NN'], ['account', 'NN'], ['.', 'PUNC']], [['What', 'PR'], ['she', 'PR'], ['’s', 'VAUX'], ['saying', 'VM'], ['and', 'CCD'], ['what', 'PR'], ['she', 'PR'], ['’s', 'VAUX'], ['doing', 'VM'], [',', 'PUNC'], ['it', 'PR'], ['—', 'PUNC'], ['actually', 'RB'], [',', 'PUNC'], ['it', 'PR'], ['’s', 'VAUX'], ['unbelievable', 'JJ'], ['.', 'PUNC']], [['$', 'SYM'], ['5,000', 'QTC'], ['per', 'ADP'], ['person', 'NN'], [',', 'PUNC'], ['the', 'DET'], ['maximum', 'NN'], ['allowed', 'VM'], ['.', 'PUNC']], [['In', 'ADP'], ['early', 'JJ'], ['October', 'NNP'], [',', 'PUNC'], ['the', 'DET'], ['transition', 'NN'], ['team', 'NN'], ['used', 'VM'], ['the', 'DET'], ['same', 'JJ'], ['venue', 'NN'], ['to', 'RP'], ['meet', 'VM'], ['with', 'ADP'], ['technology', 'NN'], ['lobbyists', 'NN'], [',', 'PUNC'], ['inviting', 'VM'], ['representatives', 'NN'], ['from', 'ADP'], ['Uber', 'NNP'], [',', 'PUNC'], ['the', 'DET'], ['Motion', 'NN'], ['Picture', 'NN'], ['Association', 'NN'], ['of', 'ADP'], ['America', 'NNP'], [',', 'PUNC'], ['the', 'DET'], ['Consumer', 'NN'], ['Technology', 'NN'], ['Association', 'NN'], ['and', 'CCD'], ['other', 'JJ'], ['groups', 'NN'], ['.', 'PUNC']], [['The', 'DET'], ['gathering', 'NN'], ['was', 'VAUX'], ['originally', 'RB'], ['slated', 'VM'], ['for', 'ADP'], ['Washington', 'NNP'], ['’s', 'RP'], ['private', 'JJ'], ['Metropolitan', 'JJ'], ['Club', 'NN'], ['on', 'ADP'], ['H', 'NNP'], ['Street', 'NNP'], ['a', 'DET'], ['few', 'JJ'], ['blocks', 'NN'], ['away', 'RB'], ['.', 'PUNC']], [['Maybe', 'RB'], ['the', 'DET'], ['dress', 'NN'], ['code', 'NN'], ['was', 'VAUX'], ['too', 'RB'], ['stuffy', 'JJ'], ['.', 'PUNC']]]\n"
          ]
        }
      ],
      "source": [
        "data_set = []\n",
        "cur_sentence = []\n",
        "cur_word_tag = ()\n",
        "\n",
        "for line in all_lines:\n",
        "   #print(line)\n",
        "    if(line == \"\"):\n",
        "        data_set.append(cur_sentence)\n",
        "        cur_sentence = []\n",
        "    else:\n",
        "        cur_word_tag = line.split(\"\\t\")\n",
        "        #print(cur_word_tag)\n",
        "        cur_sentence.append(cur_word_tag)\n",
        "print(data_set[:10])"
      ]
    },
    {
      "cell_type": "code",
      "execution_count": 842,
      "metadata": {
        "colab": {
          "base_uri": "https://localhost:8080/"
        },
        "id": "3QzgYLb66GZf",
        "outputId": "ac3a3c38-4d18-4bac-8a85-f15c27e7ebf1"
      },
      "outputs": [
        {
          "name": "stdout",
          "output_type": "stream",
          "text": [
            "Final data_set_test:\n",
            "[[['climate', 'NN'], ['change', 'NN'], ['worsens', 'VM'], ['most', 'RB'], ['infectious', 'PR'], ['diseases', 'NN'], ['of', 'ADP'], ['the', 'DET'], ['pathogens', 'NN'], ['known', 'VM'], ['to', 'ADP'], ['have', 'VM'], ['infected', 'VM'], ['humans', 'NN'], [',', 'PUNC'], ['more', 'RB'], ['than', 'ADP'], ['half', 'RB'], ['may', 'PR'], ['cause', 'VM'], ['widespread', 'PR'], ['disease', 'NN'], ['as', 'ADP'], ['a', 'DET'], ['result', 'NN'], ['rising', 'VM'], ['temperatures', 'NN'], [',', 'PUNC'], ['precipitation', 'NN'], ['changes', 'NN'], [',', 'PUNC'], ['or', 'CCD'], ['other', 'PR'], ['climate', 'NN'], ['-', 'PUNC'], ['related', 'PR'], ['factors', 'NN'], [',', 'PUNC'], ['a', 'DET'], ['study', 'NN'], ['finds', 'VM'], ['.', 'PUNC']], [['the', 'DET'], ['consequences', 'NN'], ['of', 'ADP'], ['climate', 'NN'], ['change', 'NN'], ['-', 'PUNC'], ['including', 'ADP'], ['warming', 'VM'], [',', 'PUNC'], ['drought', 'NN'], [',', 'PUNC'], ['and', 'CCONJ'], ['sea', 'NN'], ['-', 'PUNC'], ['level', 'NN'], ['rise', 'NN'], ['-', 'PUNC'], ['worsen', 'VM'], ['most', 'RB'], ['infectious', 'PR'], ['diseases', 'NN'], ['by', 'ADP'], ['facilitating', 'VM'], ['transmission', 'NN'], ['and', 'CCONJ'], ['increasing', 'VM'], ['the', 'DET'], ['severity', 'NN'], ['of', 'ADP'], ['outbreaks', 'NN'], [',', 'PUNC'], ['according', 'ADP'], ['to', 'ADP'], ['a', 'DET'], ['study', 'NN'], ['published', 'VM'], ['today', 'RB'], ['(', 'PUNC'], ['august', 'NN'], ['8', 'NUM'], [')', 'PUNC'], ['in', 'ADP'], ['nature', 'PROPN'], ['climate', 'PROPN'], ['change', 'PROPN'], ['.', 'PUNC']], [['the', 'DET'], ['study', 'NN'], ['finds', 'VM'], ['that', 'SCONJ'], ['climate', 'NN'], ['change', 'NN'], ['has', 'VM'], ['the', 'DET'], ['potential', 'NN'], ['to', 'PART'], ['exacerbate', 'VM'], ['outbreaks', 'NN'], ['of', 'ADP'], ['58', 'NUM'], ['percent', 'NN'], ['of', 'ADP'], ['the', 'DET'], ['375', 'NUM'], ['pathogens', 'NN'], ['that', 'DET'], ['have', 'VM'], ['infected', 'VM'], ['humans', 'NN'], ['in', 'ADP'], ['recorded', 'VM'], ['history', 'NN'], ['.', 'PUNC']], [['\"', 'PUNC'], ['systems', 'NN'], ['have', 'VM'], ['been', 'VM'], ['evolving', 'VM'], ['for', 'ADP'], ['millions', 'NUM'], ['of', 'ADP'], ['years', 'NN'], ['and', 'CCONJ'], ['now', 'RB'], ['humans', 'NN'], ['have', 'VM'], ['come', 'VM'], ['along', 'RB'], ['and', 'CCONJ'], ['changed', 'VM'], ['things', 'NN'], [',', 'PUNC'], ['\"', 'PUNC'], ['study', 'PR'], ['coauthor', 'NN'], ['camilo', 'PROPN'], ['mora', 'PROPN'], ['at', 'ADP'], ['the', 'DET'], ['university', 'NN'], ['of', 'ADP'], ['hawai‘i', 'PROPN'], ['at', 'ADP'], ['mānoa', 'PROPN'], ['tells', 'VM'], ['nBC', 'PROPN'], ['news', 'NN'], [',', 'PUNC'], ['adding', 'VM'], ['that', 'SCONJ'], ['\"', 'PUNC'], ['we', 'PRON'], ['are', 'VM'], ['punching', 'VM'], ['nature', 'NN'], [',', 'PUNC'], ['but', 'CCONJ'], ['nature', 'NN'], ['is', 'VM'], ['punching', 'VM'], ['us', 'PRON'], ['back', 'RB'], ['.', 'PUNC']], [['\"', 'PUNC'], ['to', 'PART'], ['assess', 'VM'], ['the', 'DET'], ['impact', 'NN'], ['of', 'ADP'], ['greenhouse', 'NN'], ['gas', 'PR'], ['emissions', 'NN'], ['on', 'ADP'], ['disease', 'NN'], [',', 'PUNC'], ['mora', 'PROPN'], ['and', 'CCONJ'], ['his', 'PRON'], ['colleagues', 'NN'], ['analyzed', 'VM'], ['more', 'RB'], ['than', 'ADP'], ['3,200', 'NUM'], ['published', 'VM'], ['scientific', 'PR'], ['works', 'NN'], [',', 'PUNC'], ['identifying', 'VM'], ['outbreaks', 'NN'], ['reported', 'VM'], ['as', 'ADP'], ['having', 'VM'], ['been', 'VM'], ['intensified', 'PR'], ['by', 'ADP'], ['at', 'ADP'], ['least', 'RB'], ['one', 'NUM'], ['climate', 'NN'], ['hazard', 'NN'], [',', 'PUNC'], ['such', 'PR'], ['as', 'SCONJ'], ['drought', 'NN'], ['.', 'PUNC']], [['tallying', 'VM'], ['the', 'DET'], ['pathogens', 'NN'], ['that', 'DET'], ['cropped', 'VM'], ['up', 'ADP'], ['in', 'ADP'], ['that', 'DET'], ['evaluation', 'NN'], [',', 'PUNC'], ['the', 'DET'], ['study', 'NN'], ['authors', 'NN'], ['found', 'VM'], ['that', 'SCONJ'], ['217', 'NUM'], ['were', 'VM'], ['also', 'RB'], ['listed', 'VM'], ['in', 'ADP'], ['databases', 'NN'], ['of', 'ADP'], ['known', 'PR'], ['infectious', 'PR'], ['diseases', 'NN'], ['compiled', 'VM'], ['by', 'ADP'], ['the', 'DET'], ['global', 'PR'], ['infectious', 'PR'], ['diseases', 'NN'], ['and', 'CCONJ'], ['epidemiology', 'PROPN'], ['network', 'NN'], ['and', 'CCONJ'], ['the', 'DET'], ['centers', 'NN'], ['for', 'ADP'], ['disease', 'NN'], ['control', 'NN'], ['and', 'CCONJ'], ['prevention', 'NN'], ['(', 'PUNC'], ['cDC', 'UNK'], [')', 'PUNC'], [',', 'PUNC'], ['they', 'PRON'], ['write', 'VM'], ['in', 'ADP'], ['their', 'PRON'], ['paper', 'NN'], ['.', 'PUNC']], [['the', 'DET'], ['researchers', 'NN'], ['then', 'RB'], ['went', 'VM'], ['on', 'ADP'], ['to', 'PART'], ['map', 'VM'], ['pathogenic', 'PR'], ['microbes', 'NN'], ['to', 'ADP'], ['climate', 'NN'], ['change', 'NN'], ['outcomes', 'NN'], ['that', 'DET'], ['have', 'VM'], ['the', 'DET'], ['potential', 'NN'], ['to', 'PART'], ['worsen', 'VM'], ['outbreaks', 'NN'], [',', 'PUNC'], ['finding', 'VM'], ['that', 'SCONJ'], ['warming', 'VM'], ['temperatures', 'NN'], ['flooding', 'VM'], ['and', 'CCONJ'], ['severe', 'PR'], ['precipitation', 'NN'], ['were', 'VM'], ['linked', 'VM'], ['to', 'ADP'], ['worsening', 'VM'], ['outbreaks', 'NN'], ['of', 'ADP'], ['the', 'DET'], ['most', 'RB'], ['pathogens', 'NN'], [',', 'PUNC'], ['while', 'SCONJ'], ['rising', 'VM'], ['sea', 'NN'], ['levels', 'PROPN'], ['was', 'VM'], ['associated', 'VM'], ['with', 'ADP'], ['exacerbating', 'PR'], ['outbreaks', 'NN'], ['of', 'ADP'], ['the', 'DET'], ['fewest', 'PR'], ['types', 'NN'], ['of', 'ADP'], ['pathogens', 'NN'], [',', 'PUNC'], ['reports', 'NN'], ['new', 'PR'], ['scientist', 'NN'], ['.', 'PUNC']], [['“', 'PUNC'], ['there', 'PRON'], ['is', 'VM'], ['no', 'DET'], ['speculation', 'NN'], ['here', 'RB'], ['whatsoever', 'RB'], ['.', 'PUNC']], [['these', 'DET'], ['are', 'VM'], ['things', 'NN'], ['that', 'DET'], ['have', 'VM'], ['already', 'RB'], ['happened', 'VM'], [',', 'PUNC'], ['\"', 'PUNC'], ['mora', 'PROPN'], ['tells', 'VM'], ['the', 'DET'], ['associated', 'PR'], ['press', 'NN'], ['.', 'PUNC']], [['while', 'SCONJ'], ['some', 'DET'], ['diseases', 'NN'], ['can', 'VM'], ['be', 'VM'], ['diminished', 'VM'], ['by', 'ADP'], ['climate', 'NN'], ['change', 'NN'], ['-', 'PUNC'], ['such', 'PR'], ['as', 'ADP'], ['how', 'RB'], ['warmer', 'PR'], ['temperatures', 'NN'], ['are', 'VM'], ['less', 'RB'], ['conducive', 'PR'], ['to', 'ADP'], ['the', 'DET'], ['spread', 'VM'], ['of', 'ADP'], ['influenza', 'NN'], ['-', 'PUNC'], ['the', 'DET'], ['study', 'PR'], ['authors', 'NN'], ['argue', 'VM'], ['that', 'SCONJ'], ['the', 'DET'], ['majority', 'NN'], ['of', 'ADP'], ['pathogens', 'NN'], ['will', 'VM'], ['thrive', 'VM'], ['under', 'ADP'], ['climate', 'NN'], ['change', 'NN'], ['conditions', 'NN'], ['through', 'ADP'], ['a', 'DET'], ['variety', 'NN'], ['of', 'ADP'], ['mechanisms', 'NN'], [':', 'PUNC'], ['warming', 'VM'], ['temperatures', 'NN'], [',', 'PUNC'], ['for', 'ADP'], ['example', 'NN'], [',', 'PUNC'], ['could', 'VM'], ['expand', 'VM'], ['the', 'DET'], ['geographic', 'PR'], ['range', 'NN'], ['of', 'ADP'], ['some', 'DET'], ['microbes', 'NN'], ['while', 'SCONJ'], ['also', 'RB'], ['increasing', 'VM'], ['the', 'DET'], ['population', 'NN'], ['sizes', 'NN'], ['of', 'ADP'], ['disease', 'NN'], ['-', 'PUNC'], ['spreading', 'VM'], ['mosquitos', 'NN'], ['.', 'PUNC']]]\n"
          ]
        }
      ],
      "source": [
        "import re\n",
        "\n",
        "#print(f\"Length of all_lines_test: {len(all_lines_test)}\")\n",
        "\n",
        "data_set_test = []\n",
        "cur_sentence_test = []\n",
        "cur_word_tag_test = ()\n",
        "\n",
        "for i, line in enumerate(all_lines_test):\n",
        "    line_repr = ''.join(c if c.isprintable() else '�' for c in line)\n",
        "    #print(f\"Processing line {i}: {line_repr}\")\n",
        "\n",
        "    if not line.strip():\n",
        "        #print(\"Empty line detected, appending sentence to data_set_test\")\n",
        "        data_set_test.append(cur_sentence_test)\n",
        "        cur_sentence_test = []\n",
        "    else:\n",
        "        cur_word_tag_test = line.split(\"\\t\")\n",
        "        #print(f\"Appending word_tag to cur_sentence_test: {cur_word_tag_test}\")\n",
        "        cur_sentence_test.append(cur_word_tag_test)\n",
        "\n",
        "# Check if cur_sentence_test is empty before appending to data_set_test\n",
        "if cur_sentence_test:\n",
        "    #print(\"Appending the last sentence to data_set_test\")\n",
        "    data_set_test.append(cur_sentence_test)\n",
        "\n",
        "print(\"Final data_set_test:\")\n",
        "for sentence in range(len(data_set_test)):\n",
        "  for word in range(len(data_set_test[sentence])):\n",
        "    data_set_test[sentence][word]= re.split(r\" +\", data_set_test[sentence][word][0])\n",
        "print(data_set_test[:10])"
      ]
    },
    {
      "cell_type": "code",
      "execution_count": 843,
      "metadata": {
        "colab": {
          "base_uri": "https://localhost:8080/"
        },
        "id": "Bbocpb0SZ2ii",
        "outputId": "e678e157-d073-46ef-b1aa-4f01417265c8"
      },
      "outputs": [
        {
          "name": "stdout",
          "output_type": "stream",
          "text": [
            "First two sentences from dataset:\n",
            "[[['“', 'PUNC'], ['While', 'CCS'], ['much', 'JJ'], ['of', 'ADP'], ['the', 'DET'], ['digital', 'JJ'], ['transition', 'NN'], ['is', 'VAUX'], ['unprecedented', 'JJ'], ['in', 'ADP'], ['the', 'DET'], ['United', 'NNP'], ['States', 'NNP'], [',', 'PUNC'], ['the', 'DET'], ['peaceful', 'JJ'], ['transition', 'NN'], ['of', 'ADP'], ['power', 'NN'], ['is', 'VAUX'], ['not', 'RB'], [',', 'PUNC'], ['”', 'PUNC'], ['Obama', 'NNP'], ['special', 'JJ'], ['assistant', 'NN'], ['Kori', 'NNP'], ['Schulman', 'NNP'], ['wrote', 'VM'], ['in', 'ADP'], ['a', 'DET'], ['blog', 'NN'], ['post', 'NN'], ['Monday', 'NNP'], ['.', 'PUNC']], [['For', 'ADP'], ['those', 'PR'], ['who', 'PR'], ['follow', 'VM'], ['social', 'JJ'], ['media', 'NN'], ['transitions', 'NN'], ['on', 'ADP'], ['Capitol', 'NNP'], ['Hill', 'NNP'], [',', 'PUNC'], ['this', 'PR'], ['will', 'VAUX'], ['be', 'VAUX'], ['a', 'DET'], ['little', 'JJ'], ['different', 'JJ'], ['.', 'PUNC']]]\n"
          ]
        }
      ],
      "source": [
        "print(\"First two sentences from dataset:\")\n",
        "print(data_set[:2])"
      ]
    },
    {
      "cell_type": "code",
      "execution_count": 844,
      "metadata": {
        "colab": {
          "base_uri": "https://localhost:8080/"
        },
        "id": "g4E8hO2Z6mKJ",
        "outputId": "23f6fc3f-8de7-4c00-d04e-8d457410b512"
      },
      "outputs": [
        {
          "name": "stdout",
          "output_type": "stream",
          "text": [
            "First two sentences from testing set:\n",
            "[[['climate', 'NN'], ['change', 'NN'], ['worsens', 'VM'], ['most', 'RB'], ['infectious', 'PR'], ['diseases', 'NN'], ['of', 'ADP'], ['the', 'DET'], ['pathogens', 'NN'], ['known', 'VM'], ['to', 'ADP'], ['have', 'VM'], ['infected', 'VM'], ['humans', 'NN'], [',', 'PUNC'], ['more', 'RB'], ['than', 'ADP'], ['half', 'RB'], ['may', 'PR'], ['cause', 'VM'], ['widespread', 'PR'], ['disease', 'NN'], ['as', 'ADP'], ['a', 'DET'], ['result', 'NN'], ['rising', 'VM'], ['temperatures', 'NN'], [',', 'PUNC'], ['precipitation', 'NN'], ['changes', 'NN'], [',', 'PUNC'], ['or', 'CCD'], ['other', 'PR'], ['climate', 'NN'], ['-', 'PUNC'], ['related', 'PR'], ['factors', 'NN'], [',', 'PUNC'], ['a', 'DET'], ['study', 'NN'], ['finds', 'VM'], ['.', 'PUNC']], [['the', 'DET'], ['consequences', 'NN'], ['of', 'ADP'], ['climate', 'NN'], ['change', 'NN'], ['-', 'PUNC'], ['including', 'ADP'], ['warming', 'VM'], [',', 'PUNC'], ['drought', 'NN'], [',', 'PUNC'], ['and', 'CCONJ'], ['sea', 'NN'], ['-', 'PUNC'], ['level', 'NN'], ['rise', 'NN'], ['-', 'PUNC'], ['worsen', 'VM'], ['most', 'RB'], ['infectious', 'PR'], ['diseases', 'NN'], ['by', 'ADP'], ['facilitating', 'VM'], ['transmission', 'NN'], ['and', 'CCONJ'], ['increasing', 'VM'], ['the', 'DET'], ['severity', 'NN'], ['of', 'ADP'], ['outbreaks', 'NN'], [',', 'PUNC'], ['according', 'ADP'], ['to', 'ADP'], ['a', 'DET'], ['study', 'NN'], ['published', 'VM'], ['today', 'RB'], ['(', 'PUNC'], ['august', 'NN'], ['8', 'NUM'], [')', 'PUNC'], ['in', 'ADP'], ['nature', 'PROPN'], ['climate', 'PROPN'], ['change', 'PROPN'], ['.', 'PUNC']]]\n"
          ]
        }
      ],
      "source": [
        "print(\"First two sentences from testing set:\")\n",
        "print(data_set_test[:2])"
      ]
    },
    {
      "cell_type": "code",
      "execution_count": 845,
      "metadata": {
        "id": "OVwDBr_AZ7Pa"
      },
      "outputs": [],
      "source": [
        "# split data into training and validation set in the ratio 80:20\n",
        "train_set,test_set = data_set, data_set_test"
      ]
    },
    {
      "cell_type": "code",
      "execution_count": 846,
      "metadata": {
        "id": "sNWWCjpeZ9hq"
      },
      "outputs": [],
      "source": [
        "# create list of train and test tagged words\n",
        "train_tagged_words = [ tup for sent in train_set for tup in sent ][:17000]\n",
        "test_tagged_words = [ tup for sent in train_set for tup in sent ][17000:]"
      ]
    },
    {
      "cell_type": "code",
      "execution_count": 847,
      "metadata": {
        "colab": {
          "base_uri": "https://localhost:8080/"
        },
        "id": "Yk8Jzw7waAZ9",
        "outputId": "4af26e88-e0cc-43c3-9ecd-d23796c9df5c"
      },
      "outputs": [
        {
          "name": "stdout",
          "output_type": "stream",
          "text": [
            "Length of Train set and test set:\n",
            "17000\n",
            "4316\n"
          ]
        }
      ],
      "source": [
        "print(\"Length of Train set and test set:\")\n",
        "\n",
        "print(len(train_tagged_words))\n",
        "print(len(test_tagged_words))"
      ]
    },
    {
      "cell_type": "code",
      "execution_count": 848,
      "metadata": {
        "colab": {
          "base_uri": "https://localhost:8080/"
        },
        "id": "pD69S_i7aBni",
        "outputId": "50effd42-f69d-4671-f6cf-729192398b53"
      },
      "outputs": [
        {
          "data": {
            "text/plain": [
              "[['“', 'PUNC'],\n",
              " ['While', 'CCS'],\n",
              " ['much', 'JJ'],\n",
              " ['of', 'ADP'],\n",
              " ['the', 'DET']]"
            ]
          },
          "execution_count": 848,
          "metadata": {},
          "output_type": "execute_result"
        }
      ],
      "source": [
        "# print some of the tagged words.\n",
        "train_tagged_words[:5]"
      ]
    },
    {
      "cell_type": "code",
      "execution_count": 849,
      "metadata": {
        "colab": {
          "base_uri": "https://localhost:8080/"
        },
        "id": "RYdrNwn0aCq3",
        "outputId": "3368e0c6-66a3-4998-9bc9-a9b74e9f82e6"
      },
      "outputs": [
        {
          "name": "stdout",
          "output_type": "stream",
          "text": [
            "Total tags: 18\n",
            "All tags: {'PR', 'DET', 'ADP', 'VM', 'RB', 'NNP', 'NN', 'RP', 'QTC', 'X', 'SYM', 'VAUX', 'INTJ', 'PUNC', 'CCS', 'JJ', '_', 'CCD'}\n"
          ]
        }
      ],
      "source": [
        "#use set datatype to check how many unique tags are present in training data\n",
        "tags = set()\n",
        "for word, tag in train_tagged_words:\n",
        "    tags.add(tag)\n",
        "print(\"Total tags:\", len(tags))\n",
        "print(\"All tags:\", tags)\n",
        "# print(tags)"
      ]
    },
    {
      "cell_type": "code",
      "execution_count": 850,
      "metadata": {
        "id": "uRZMf0cBaHiD"
      },
      "outputs": [],
      "source": [
        "# check total words in vocabulary\n",
        "vocab = {word for word,tag in train_tagged_words}\n"
      ]
    },
    {
      "cell_type": "markdown",
      "metadata": {
        "id": "nIQWMF9NaO0C"
      },
      "source": [
        "Define Emission Probability and Transition Probability"
      ]
    },
    {
      "cell_type": "code",
      "execution_count": 851,
      "metadata": {
        "id": "5bb_eWXraMtC"
      },
      "outputs": [],
      "source": [
        "# compute Emission Probability\n",
        "def emission(word, tag, train_bag = train_tagged_words):\n",
        "    tag_list = [pair for pair in train_bag if pair[1]==tag]\n",
        "    count_tag = len(tag_list)#total number of times the passed tag occurred in train_bag\n",
        "    w_given_tag_list = [pair[0] for pair in tag_list if pair[0]==word]\n",
        "#now calculate the total number of times the passed word occurred as the passed tag.\n",
        "    count_w_given_tag = len(w_given_tag_list)\n",
        "\n",
        "\n",
        "    return (count_w_given_tag, count_tag)\n",
        "\n",
        "# compute  Transition Probability\n",
        "def transition(t2, t1, train_bag = train_tagged_words):\n",
        "    tags = [pair[1] for pair in train_bag]\n",
        "    count_t1 = len([t for t in tags if t==t1])\n",
        "    count_t2_t1 = 0\n",
        "    for index in range(len(tags)-1):\n",
        "        if tags[index]==t1 and tags[index+1] == t2:\n",
        "            count_t2_t1 += 1\n",
        "    return (count_t2_t1, count_t1)"
      ]
    },
    {
      "cell_type": "code",
      "execution_count": 852,
      "metadata": {
        "id": "qt4zOEGzaVc6"
      },
      "outputs": [],
      "source": [
        "# creating t x t transition matrix of tags, t= no of tags\n",
        "# Matrix(i, j) represents P(jth tag after the ith tag)\n",
        "\n",
        "# em_matrix = np.zeros((len(tags), len(vocab)))\n",
        "# for i, tag in enumerate(tags):\n",
        "#     for j, word in enumerate(vocab):\n",
        "#         em_matrix[i, j] = emission(word, tag)[0]/emission(word, tag)[1]\n",
        "\n",
        "\n",
        "\n",
        "tags_matrix = np.zeros((len(tags), len(tags)), dtype='float32')\n",
        "for i, t1 in enumerate(list(tags)):\n",
        "    for j, t2 in enumerate(list(tags)):\n",
        "        tags_matrix[i, j] = transition(t2, t1)[0]/transition(t2, t1)[1]\n"
      ]
    },
    {
      "cell_type": "code",
      "execution_count": 853,
      "metadata": {
        "colab": {
          "base_uri": "https://localhost:8080/"
        },
        "id": "Ys8aM68UaZoN",
        "outputId": "e88db5fb-b032-407e-905d-46a2506ea540"
      },
      "outputs": [
        {
          "name": "stdout",
          "output_type": "stream",
          "text": [
            "[[1.58150848e-02 9.73236002e-03 3.52798067e-02 2.78588802e-01\n",
            "  4.62287106e-02 9.73236002e-03 1.71532840e-01 6.08272525e-03\n",
            "  3.64963501e-03 0.00000000e+00 0.00000000e+00 2.88321167e-01\n",
            "  0.00000000e+00 4.37956192e-02 1.21654500e-03 7.54257888e-02\n",
            "  4.86618001e-03 9.73236002e-03]\n",
            " [2.51098559e-03 5.02197118e-03 5.02197118e-03 1.63214058e-02\n",
            "  1.38104204e-02 1.28060266e-01 5.31701207e-01 0.00000000e+00\n",
            "  1.94601379e-02 0.00000000e+00 0.00000000e+00 0.00000000e+00\n",
            "  0.00000000e+00 6.27746386e-03 0.00000000e+00 2.56120533e-01\n",
            "  1.44381672e-02 1.25549280e-03]\n",
            " [7.58835748e-02 3.69542629e-01 1.97505206e-02 8.83575901e-03\n",
            "  1.66320167e-02 1.57484412e-01 1.73076928e-01 0.00000000e+00\n",
            "  6.18503131e-02 5.19750523e-04 3.63825355e-03 5.19750523e-04\n",
            "  0.00000000e+00 1.24740126e-02 2.07900209e-03 8.93970877e-02\n",
            "  6.75675692e-03 1.55925157e-03]\n",
            " [6.90448806e-02 1.86996549e-01 2.57767558e-01 1.95627157e-02\n",
            "  5.35097830e-02 3.73993106e-02 1.09321058e-01 5.46605289e-02\n",
            "  1.49597237e-02 0.00000000e+00 2.87686987e-03 3.45224398e-03\n",
            "  0.00000000e+00 7.47986212e-02 3.50978151e-02 6.38665110e-02\n",
            "  5.75373974e-03 1.09321056e-02]\n",
            " [5.68181835e-02 6.53409064e-02 9.51704532e-02 2.34375000e-01\n",
            "  9.80113670e-02 1.42045459e-02 2.41477266e-02 1.13636367e-02\n",
            "  5.53977266e-02 0.00000000e+00 1.42045459e-03 3.40909101e-02\n",
            "  0.00000000e+00 1.49147734e-01 1.13636367e-02 1.34943187e-01\n",
            "  2.84090918e-03 1.13636367e-02]\n",
            " [1.04011884e-02 5.94353629e-03 7.13224337e-02 1.06983654e-01\n",
            "  1.85735505e-02 1.87221393e-01 8.46953914e-02 5.57206534e-02\n",
            "  2.45170873e-02 0.00000000e+00 0.00000000e+00 8.54383335e-02\n",
            "  0.00000000e+00 2.69687951e-01 5.94353629e-03 7.42942048e-03\n",
            "  7.42942048e-03 5.86924218e-02]\n",
            " [2.20926665e-02 8.59159231e-03 2.60816187e-01 8.10064450e-02\n",
            "  2.42405646e-02 1.99447684e-02 1.13224916e-01 2.51610931e-02\n",
            "  3.98895377e-03 3.06842587e-04 0.00000000e+00 7.73243308e-02\n",
            "  0.00000000e+00 2.81374663e-01 1.93310827e-02 8.59159231e-03\n",
            "  2.14789808e-03 5.18563986e-02]\n",
            " [2.85714283e-03 8.57142825e-03 5.71428565e-03 6.05714262e-01\n",
            "  3.42857130e-02 5.71428565e-03 1.59999996e-01 5.71428565e-03\n",
            "  2.85714283e-03 0.00000000e+00 0.00000000e+00 8.28571394e-02\n",
            "  0.00000000e+00 8.57142825e-03 2.85714283e-03 7.42857158e-02\n",
            "  0.00000000e+00 0.00000000e+00]\n",
            " [0.00000000e+00 1.35501353e-02 1.02981031e-01 1.89701896e-02\n",
            "  1.35501353e-02 5.42005412e-02 2.92682916e-01 5.42005431e-03\n",
            "  4.33604345e-02 0.00000000e+00 5.14905155e-02 1.35501353e-02\n",
            "  0.00000000e+00 3.00813019e-01 8.13008100e-03 4.33604345e-02\n",
            "  0.00000000e+00 3.79403792e-02]\n",
            " [0.00000000e+00 0.00000000e+00 0.00000000e+00 0.00000000e+00\n",
            "  0.00000000e+00 0.00000000e+00 0.00000000e+00 0.00000000e+00\n",
            "  0.00000000e+00 5.00000000e-01 0.00000000e+00 0.00000000e+00\n",
            "  0.00000000e+00 5.00000000e-01 0.00000000e+00 0.00000000e+00\n",
            "  0.00000000e+00 0.00000000e+00]\n",
            " [0.00000000e+00 0.00000000e+00 2.24999994e-01 0.00000000e+00\n",
            "  0.00000000e+00 0.00000000e+00 2.50000004e-02 0.00000000e+00\n",
            "  5.74999988e-01 0.00000000e+00 5.00000007e-02 0.00000000e+00\n",
            "  0.00000000e+00 1.00000001e-01 0.00000000e+00 2.50000004e-02\n",
            "  0.00000000e+00 0.00000000e+00]\n",
            " [9.87654366e-03 8.51851851e-02 3.58024687e-02 4.19753075e-01\n",
            "  1.75308645e-01 8.64197500e-03 1.35802468e-02 4.93827164e-02\n",
            "  1.23456791e-02 0.00000000e+00 2.46913591e-03 7.90123492e-02\n",
            "  0.00000000e+00 8.64197500e-03 1.23456796e-03 9.38271582e-02\n",
            "  1.23456796e-03 2.46913591e-03]\n",
            " [0.00000000e+00 0.00000000e+00 0.00000000e+00 0.00000000e+00\n",
            "  0.00000000e+00 0.00000000e+00 0.00000000e+00 0.00000000e+00\n",
            "  0.00000000e+00 0.00000000e+00 0.00000000e+00 0.00000000e+00\n",
            "  0.00000000e+00 1.00000000e+00 0.00000000e+00 0.00000000e+00\n",
            "  0.00000000e+00 0.00000000e+00]\n",
            " [1.36592746e-01 1.40625000e-01 9.72782224e-02 7.86290318e-02\n",
            "  6.95564523e-02 1.11391127e-01 7.91330636e-02 3.52822570e-03\n",
            "  1.51209673e-02 5.04032243e-04 1.00806449e-03 2.06653234e-02\n",
            "  5.04032243e-04 7.20766112e-02 2.36895159e-02 6.04838692e-02\n",
            "  1.41129028e-02 7.51008093e-02]\n",
            " [2.28699550e-01 1.70403585e-01 1.34529145e-02 2.37668157e-01\n",
            "  4.93273549e-02 1.07623316e-01 4.93273549e-02 4.48430516e-03\n",
            "  1.34529145e-02 0.00000000e+00 0.00000000e+00 2.69058291e-02\n",
            "  0.00000000e+00 1.79372206e-02 3.58744413e-02 3.58744413e-02\n",
            "  0.00000000e+00 8.96861032e-03]\n",
            " [5.61797759e-03 8.02568218e-04 7.54414126e-02 1.28410915e-02\n",
            "  4.81540943e-03 4.81540933e-02 6.42857134e-01 2.24719103e-02\n",
            "  9.63081885e-03 0.00000000e+00 0.00000000e+00 1.60513644e-03\n",
            "  0.00000000e+00 8.90850723e-02 1.12359552e-02 5.29695041e-02\n",
            "  1.60513644e-03 2.08667740e-02]\n",
            " [1.82692304e-01 0.00000000e+00 0.00000000e+00 0.00000000e+00\n",
            "  0.00000000e+00 5.00000000e-01 2.21153840e-01 0.00000000e+00\n",
            "  0.00000000e+00 0.00000000e+00 0.00000000e+00 9.61538479e-02\n",
            "  0.00000000e+00 0.00000000e+00 0.00000000e+00 0.00000000e+00\n",
            "  0.00000000e+00 0.00000000e+00]\n",
            " [1.16424114e-01 1.33056134e-01 4.15800400e-02 1.55925155e-01\n",
            "  6.65280670e-02 1.10187113e-01 1.66320160e-01 1.03950100e-02\n",
            "  2.07900200e-02 0.00000000e+00 4.15800419e-03 3.74220386e-02\n",
            "  0.00000000e+00 2.28690226e-02 8.31600837e-03 9.77130979e-02\n",
            "  8.31600837e-03 0.00000000e+00]]\n"
          ]
        }
      ],
      "source": [
        "# print(em_matrix)\n",
        "print(tags_matrix)"
      ]
    },
    {
      "cell_type": "code",
      "execution_count": 854,
      "metadata": {
        "colab": {
          "base_uri": "https://localhost:8080/"
        },
        "id": "D9qPxCoFabzg",
        "outputId": "16c2297d-eaf6-4856-a51e-6f36e45d96d9"
      },
      "outputs": [
        {
          "name": "stdout",
          "output_type": "stream",
          "text": [
            "            PR       DET       ADP        VM        RB       NNP        NN  \\\n",
            "PR    0.015815  0.009732  0.035280  0.278589  0.046229  0.009732  0.171533   \n",
            "DET   0.002511  0.005022  0.005022  0.016321  0.013810  0.128060  0.531701   \n",
            "ADP   0.075884  0.369543  0.019751  0.008836  0.016632  0.157484  0.173077   \n",
            "VM    0.069045  0.186997  0.257768  0.019563  0.053510  0.037399  0.109321   \n",
            "RB    0.056818  0.065341  0.095170  0.234375  0.098011  0.014205  0.024148   \n",
            "NNP   0.010401  0.005944  0.071322  0.106984  0.018574  0.187221  0.084695   \n",
            "NN    0.022093  0.008592  0.260816  0.081006  0.024241  0.019945  0.113225   \n",
            "RP    0.002857  0.008571  0.005714  0.605714  0.034286  0.005714  0.160000   \n",
            "QTC   0.000000  0.013550  0.102981  0.018970  0.013550  0.054201  0.292683   \n",
            "X     0.000000  0.000000  0.000000  0.000000  0.000000  0.000000  0.000000   \n",
            "SYM   0.000000  0.000000  0.225000  0.000000  0.000000  0.000000  0.025000   \n",
            "VAUX  0.009877  0.085185  0.035802  0.419753  0.175309  0.008642  0.013580   \n",
            "INTJ  0.000000  0.000000  0.000000  0.000000  0.000000  0.000000  0.000000   \n",
            "PUNC  0.136593  0.140625  0.097278  0.078629  0.069556  0.111391  0.079133   \n",
            "CCS   0.228700  0.170404  0.013453  0.237668  0.049327  0.107623  0.049327   \n",
            "JJ    0.005618  0.000803  0.075441  0.012841  0.004815  0.048154  0.642857   \n",
            "_     0.182692  0.000000  0.000000  0.000000  0.000000  0.500000  0.221154   \n",
            "CCD   0.116424  0.133056  0.041580  0.155925  0.066528  0.110187  0.166320   \n",
            "\n",
            "            RP       QTC         X       SYM      VAUX      INTJ      PUNC  \\\n",
            "PR    0.006083  0.003650  0.000000  0.000000  0.288321  0.000000  0.043796   \n",
            "DET   0.000000  0.019460  0.000000  0.000000  0.000000  0.000000  0.006277   \n",
            "ADP   0.000000  0.061850  0.000520  0.003638  0.000520  0.000000  0.012474   \n",
            "VM    0.054661  0.014960  0.000000  0.002877  0.003452  0.000000  0.074799   \n",
            "RB    0.011364  0.055398  0.000000  0.001420  0.034091  0.000000  0.149148   \n",
            "NNP   0.055721  0.024517  0.000000  0.000000  0.085438  0.000000  0.269688   \n",
            "NN    0.025161  0.003989  0.000307  0.000000  0.077324  0.000000  0.281375   \n",
            "RP    0.005714  0.002857  0.000000  0.000000  0.082857  0.000000  0.008571   \n",
            "QTC   0.005420  0.043360  0.000000  0.051491  0.013550  0.000000  0.300813   \n",
            "X     0.000000  0.000000  0.500000  0.000000  0.000000  0.000000  0.500000   \n",
            "SYM   0.000000  0.575000  0.000000  0.050000  0.000000  0.000000  0.100000   \n",
            "VAUX  0.049383  0.012346  0.000000  0.002469  0.079012  0.000000  0.008642   \n",
            "INTJ  0.000000  0.000000  0.000000  0.000000  0.000000  0.000000  1.000000   \n",
            "PUNC  0.003528  0.015121  0.000504  0.001008  0.020665  0.000504  0.072077   \n",
            "CCS   0.004484  0.013453  0.000000  0.000000  0.026906  0.000000  0.017937   \n",
            "JJ    0.022472  0.009631  0.000000  0.000000  0.001605  0.000000  0.089085   \n",
            "_     0.000000  0.000000  0.000000  0.000000  0.096154  0.000000  0.000000   \n",
            "CCD   0.010395  0.020790  0.000000  0.004158  0.037422  0.000000  0.022869   \n",
            "\n",
            "           CCS        JJ         _       CCD  \n",
            "PR    0.001217  0.075426  0.004866  0.009732  \n",
            "DET   0.000000  0.256121  0.014438  0.001255  \n",
            "ADP   0.002079  0.089397  0.006757  0.001559  \n",
            "VM    0.035098  0.063867  0.005754  0.010932  \n",
            "RB    0.011364  0.134943  0.002841  0.011364  \n",
            "NNP   0.005944  0.007429  0.007429  0.058692  \n",
            "NN    0.019331  0.008592  0.002148  0.051856  \n",
            "RP    0.002857  0.074286  0.000000  0.000000  \n",
            "QTC   0.008130  0.043360  0.000000  0.037940  \n",
            "X     0.000000  0.000000  0.000000  0.000000  \n",
            "SYM   0.000000  0.025000  0.000000  0.000000  \n",
            "VAUX  0.001235  0.093827  0.001235  0.002469  \n",
            "INTJ  0.000000  0.000000  0.000000  0.000000  \n",
            "PUNC  0.023690  0.060484  0.014113  0.075101  \n",
            "CCS   0.035874  0.035874  0.000000  0.008969  \n",
            "JJ    0.011236  0.052970  0.001605  0.020867  \n",
            "_     0.000000  0.000000  0.000000  0.000000  \n",
            "CCD   0.008316  0.097713  0.008316  0.000000  \n"
          ]
        }
      ],
      "source": [
        "# convert the matrix to a dataframe for better readability\n",
        "# the table is same as the transition table shown in section 3 of article\n",
        "tags_df = pd.DataFrame(tags_matrix, columns = list(tags), index=list(tags))\n",
        "print(tags_df)\n"
      ]
    },
    {
      "cell_type": "markdown",
      "metadata": {
        "id": "3GpZfyVNagZC"
      },
      "source": [
        "Define Viterbi Algorithm"
      ]
    },
    {
      "cell_type": "code",
      "execution_count": 855,
      "metadata": {
        "id": "IE0Ht_8QafWI"
      },
      "outputs": [],
      "source": [
        "def Viterbi(sentence, tag_probs=train_tagged_words):\n",
        "    state_sequence = []\n",
        "    tags = list(set([pair[1] for pair in tag_probs]))\n",
        "\n",
        "    for index, word in enumerate(sentence):\n",
        "        max_probability = float('-inf')\n",
        "        max_probability_tag = None\n",
        "\n",
        "        for tag in tags:\n",
        "            if index == 0:\n",
        "                transition_probability = 0\n",
        "            else:\n",
        "                transition_probability = tags_df.loc[state_sequence[-1], tag]\n",
        "\n",
        "            emission_probability = emission(word, tag)[0] / emission(word, tag)[1]\n",
        "            state_probability = emission_probability * transition_probability\n",
        "\n",
        "            if state_probability > max_probability:\n",
        "                max_probability = state_probability\n",
        "                max_probability_tag = tag\n",
        "\n",
        "        state_sequence.append(max_probability_tag)\n",
        "\n",
        "    return list(zip(sentence, state_sequence))"
      ]
    },
    {
      "cell_type": "markdown",
      "metadata": {
        "id": "uozYTbT_apEa"
      },
      "source": [
        "Create Test set"
      ]
    },
    {
      "cell_type": "code",
      "execution_count": 856,
      "metadata": {
        "colab": {
          "base_uri": "https://localhost:8080/"
        },
        "id": "gsxidZ7BarAP",
        "outputId": "35965c69-b044-4236-f685-81757aa78c06"
      },
      "outputs": [
        {
          "name": "stdout",
          "output_type": "stream",
          "text": [
            "Test sentences:\n",
            "[('climate', 'NN'), ('change', 'NN'), ('worsens', 'VM'), ('most', 'RB'), ('infectious', 'PR'), ('diseases', 'NN'), ('of', 'ADP'), ('the', 'DET'), ('pathogens', 'NN'), ('known', 'VM'), ('to', 'ADP'), ('have', 'VM'), ('infected', 'VM'), ('humans', 'NN'), (',', 'PUNC'), ('more', 'RB'), ('than', 'ADP'), ('half', 'RB'), ('may', 'PR'), ('cause', 'VM'), ('widespread', 'PR'), ('disease', 'NN'), ('as', 'ADP'), ('a', 'DET'), ('result', 'NN'), ('rising', 'VM'), ('temperatures', 'NN'), (',', 'PUNC'), ('precipitation', 'NN'), ('changes', 'NN'), (',', 'PUNC'), ('or', 'CCD'), ('other', 'PR'), ('climate', 'NN'), ('-', 'PUNC'), ('related', 'PR'), ('factors', 'NN'), (',', 'PUNC'), ('a', 'DET'), ('study', 'NN'), ('finds', 'VM'), ('.', 'PUNC'), ('the', 'DET'), ('consequences', 'NN'), ('of', 'ADP'), ('climate', 'NN'), ('change', 'NN'), ('-', 'PUNC'), ('including', 'ADP'), ('warming', 'VM'), (',', 'PUNC'), ('drought', 'NN'), (',', 'PUNC'), ('and', 'CCONJ'), ('sea', 'NN'), ('-', 'PUNC'), ('level', 'NN'), ('rise', 'NN'), ('-', 'PUNC'), ('worsen', 'VM'), ('most', 'RB'), ('infectious', 'PR'), ('diseases', 'NN'), ('by', 'ADP'), ('facilitating', 'VM'), ('transmission', 'NN'), ('and', 'CCONJ'), ('increasing', 'VM'), ('the', 'DET'), ('severity', 'NN'), ('of', 'ADP'), ('outbreaks', 'NN'), (',', 'PUNC'), ('according', 'ADP'), ('to', 'ADP'), ('a', 'DET'), ('study', 'NN'), ('published', 'VM'), ('today', 'RB'), ('(', 'PUNC'), ('august', 'NN'), ('8', 'NUM'), (')', 'PUNC'), ('in', 'ADP'), ('nature', 'PROPN'), ('climate', 'PROPN'), ('change', 'PROPN'), ('.', 'PUNC'), ('the', 'DET'), ('study', 'NN'), ('finds', 'VM'), ('that', 'SCONJ'), ('climate', 'NN'), ('change', 'NN'), ('has', 'VM'), ('the', 'DET'), ('potential', 'NN'), ('to', 'PART'), ('exacerbate', 'VM'), ('outbreaks', 'NN'), ('of', 'ADP'), ('58', 'NUM'), ('percent', 'NN'), ('of', 'ADP'), ('the', 'DET'), ('375', 'NUM'), ('pathogens', 'NN'), ('that', 'DET'), ('have', 'VM'), ('infected', 'VM'), ('humans', 'NN'), ('in', 'ADP'), ('recorded', 'VM'), ('history', 'NN'), ('.', 'PUNC'), ('\"', 'PUNC'), ('systems', 'NN'), ('have', 'VM'), ('been', 'VM'), ('evolving', 'VM'), ('for', 'ADP'), ('millions', 'NUM'), ('of', 'ADP'), ('years', 'NN'), ('and', 'CCONJ'), ('now', 'RB'), ('humans', 'NN'), ('have', 'VM'), ('come', 'VM'), ('along', 'RB'), ('and', 'CCONJ'), ('changed', 'VM'), ('things', 'NN'), (',', 'PUNC'), ('\"', 'PUNC'), ('study', 'PR'), ('coauthor', 'NN'), ('camilo', 'PROPN'), ('mora', 'PROPN'), ('at', 'ADP'), ('the', 'DET'), ('university', 'NN'), ('of', 'ADP'), ('hawai‘i', 'PROPN'), ('at', 'ADP'), ('mānoa', 'PROPN'), ('tells', 'VM'), ('nBC', 'PROPN'), ('news', 'NN'), (',', 'PUNC'), ('adding', 'VM'), ('that', 'SCONJ'), ('\"', 'PUNC'), ('we', 'PRON'), ('are', 'VM'), ('punching', 'VM'), ('nature', 'NN'), (',', 'PUNC'), ('but', 'CCONJ'), ('nature', 'NN'), ('is', 'VM'), ('punching', 'VM'), ('us', 'PRON'), ('back', 'RB'), ('.', 'PUNC'), ('\"', 'PUNC'), ('to', 'PART'), ('assess', 'VM'), ('the', 'DET'), ('impact', 'NN'), ('of', 'ADP'), ('greenhouse', 'NN'), ('gas', 'PR'), ('emissions', 'NN'), ('on', 'ADP'), ('disease', 'NN'), (',', 'PUNC'), ('mora', 'PROPN'), ('and', 'CCONJ'), ('his', 'PRON'), ('colleagues', 'NN'), ('analyzed', 'VM'), ('more', 'RB'), ('than', 'ADP'), ('3,200', 'NUM'), ('published', 'VM'), ('scientific', 'PR'), ('works', 'NN'), (',', 'PUNC'), ('identifying', 'VM'), ('outbreaks', 'NN'), ('reported', 'VM'), ('as', 'ADP'), ('having', 'VM'), ('been', 'VM'), ('intensified', 'PR'), ('by', 'ADP'), ('at', 'ADP'), ('least', 'RB'), ('one', 'NUM'), ('climate', 'NN'), ('hazard', 'NN'), (',', 'PUNC'), ('such', 'PR'), ('as', 'SCONJ'), ('drought', 'NN'), ('.', 'PUNC'), ('tallying', 'VM'), ('the', 'DET'), ('pathogens', 'NN'), ('that', 'DET'), ('cropped', 'VM'), ('up', 'ADP'), ('in', 'ADP'), ('that', 'DET'), ('evaluation', 'NN'), (',', 'PUNC'), ('the', 'DET'), ('study', 'NN'), ('authors', 'NN'), ('found', 'VM'), ('that', 'SCONJ'), ('217', 'NUM'), ('were', 'VM'), ('also', 'RB'), ('listed', 'VM'), ('in', 'ADP'), ('databases', 'NN'), ('of', 'ADP'), ('known', 'PR'), ('infectious', 'PR'), ('diseases', 'NN'), ('compiled', 'VM'), ('by', 'ADP'), ('the', 'DET'), ('global', 'PR'), ('infectious', 'PR'), ('diseases', 'NN'), ('and', 'CCONJ'), ('epidemiology', 'PROPN'), ('network', 'NN'), ('and', 'CCONJ'), ('the', 'DET'), ('centers', 'NN'), ('for', 'ADP'), ('disease', 'NN'), ('control', 'NN'), ('and', 'CCONJ'), ('prevention', 'NN'), ('(', 'PUNC'), ('cDC', 'UNK'), (')', 'PUNC'), (',', 'PUNC'), ('they', 'PRON'), ('write', 'VM'), ('in', 'ADP'), ('their', 'PRON'), ('paper', 'NN'), ('.', 'PUNC'), ('the', 'DET'), ('researchers', 'NN'), ('then', 'RB'), ('went', 'VM'), ('on', 'ADP'), ('to', 'PART'), ('map', 'VM'), ('pathogenic', 'PR'), ('microbes', 'NN'), ('to', 'ADP'), ('climate', 'NN'), ('change', 'NN'), ('outcomes', 'NN'), ('that', 'DET'), ('have', 'VM'), ('the', 'DET'), ('potential', 'NN'), ('to', 'PART'), ('worsen', 'VM'), ('outbreaks', 'NN'), (',', 'PUNC'), ('finding', 'VM'), ('that', 'SCONJ'), ('warming', 'VM'), ('temperatures', 'NN'), ('flooding', 'VM'), ('and', 'CCONJ'), ('severe', 'PR'), ('precipitation', 'NN'), ('were', 'VM'), ('linked', 'VM'), ('to', 'ADP'), ('worsening', 'VM'), ('outbreaks', 'NN'), ('of', 'ADP'), ('the', 'DET'), ('most', 'RB'), ('pathogens', 'NN'), (',', 'PUNC'), ('while', 'SCONJ'), ('rising', 'VM'), ('sea', 'NN'), ('levels', 'PROPN'), ('was', 'VM'), ('associated', 'VM'), ('with', 'ADP'), ('exacerbating', 'PR'), ('outbreaks', 'NN'), ('of', 'ADP'), ('the', 'DET'), ('fewest', 'PR'), ('types', 'NN'), ('of', 'ADP'), ('pathogens', 'NN'), (',', 'PUNC'), ('reports', 'NN'), ('new', 'PR'), ('scientist', 'NN'), ('.', 'PUNC'), ('“', 'PUNC'), ('there', 'PRON'), ('is', 'VM'), ('no', 'DET'), ('speculation', 'NN'), ('here', 'RB'), ('whatsoever', 'RB'), ('.', 'PUNC'), ('these', 'DET'), ('are', 'VM'), ('things', 'NN'), ('that', 'DET'), ('have', 'VM'), ('already', 'RB'), ('happened', 'VM'), (',', 'PUNC'), ('\"', 'PUNC'), ('mora', 'PROPN'), ('tells', 'VM'), ('the', 'DET'), ('associated', 'PR'), ('press', 'NN'), ('.', 'PUNC'), ('while', 'SCONJ'), ('some', 'DET'), ('diseases', 'NN'), ('can', 'VM'), ('be', 'VM'), ('diminished', 'VM'), ('by', 'ADP'), ('climate', 'NN'), ('change', 'NN'), ('-', 'PUNC'), ('such', 'PR'), ('as', 'ADP'), ('how', 'RB'), ('warmer', 'PR'), ('temperatures', 'NN'), ('are', 'VM'), ('less', 'RB'), ('conducive', 'PR'), ('to', 'ADP'), ('the', 'DET'), ('spread', 'VM'), ('of', 'ADP'), ('influenza', 'NN'), ('-', 'PUNC'), ('the', 'DET'), ('study', 'PR'), ('authors', 'NN'), ('argue', 'VM'), ('that', 'SCONJ'), ('the', 'DET'), ('majority', 'NN'), ('of', 'ADP'), ('pathogens', 'NN'), ('will', 'VM'), ('thrive', 'VM'), ('under', 'ADP'), ('climate', 'NN'), ('change', 'NN'), ('conditions', 'NN'), ('through', 'ADP'), ('a', 'DET'), ('variety', 'NN'), ('of', 'ADP'), ('mechanisms', 'NN'), (':', 'PUNC'), ('warming', 'VM'), ('temperatures', 'NN'), (',', 'PUNC'), ('for', 'ADP'), ('example', 'NN'), (',', 'PUNC'), ('could', 'VM'), ('expand', 'VM'), ('the', 'DET'), ('geographic', 'PR'), ('range', 'NN'), ('of', 'ADP'), ('some', 'DET'), ('microbes', 'NN'), ('while', 'SCONJ'), ('also', 'RB'), ('increasing', 'VM'), ('the', 'DET'), ('population', 'NN'), ('sizes', 'NN'), ('of', 'ADP'), ('disease', 'NN'), ('-', 'PUNC'), ('spreading', 'VM'), ('mosquitos', 'NN'), ('.', 'PUNC'), ('in', 'ADP'), ('addition', 'NN'), (',', 'PUNC'), ('the', 'DET'), ('authors', 'NN'), ('write', 'VM'), ('that', 'SCONJ'), ('the', 'DET'), ('consequences', 'NN'), ('of', 'ADP'), ('climate', 'NN'), ('change', 'NN'), ('could', 'VM'), ('hinder', 'VM'), ('people’s', 'NN'), ('ability', 'NN'), ('to', 'PART'), ('fight', 'VM'), ('infection', 'NN'), ('-', 'PUNC'), ('for', 'ADP'), ('example', 'NN'), (',', 'PUNC'), ('severe', 'PR'), ('weather', 'NN'), ('events', 'NN'), ('might', 'VM'), ('damage', 'VM'), ('infrastructure', 'NN'), ('and', 'CCONJ'), ('impede', 'VM'), ('access', 'NN'), ('to', 'ADP'), ('food', 'NN'), (',', 'PUNC'), ('leading', 'VM'), ('to', 'ADP'), ('malnutrition', 'NN'), ('that', 'DET'), ('could', 'VM'), ('dampen', 'VM'), ('immune', 'PR'), ('system', 'NN'), ('function', 'NN'), ('.', 'PUNC'), ('“', 'PUNC'), ('however', 'RB'), ('correlation', 'NN'), ('is', 'VM'), ('not', 'PART'), ('causation', 'NN'), (',', 'PUNC'), ('\"', 'PUNC'), ('kristie', 'PROPN'), ('ebi', 'PROPN'), (',', 'PUNC'), ('a', 'DET'), ('climate', 'NN'), ('and', 'CCONJ'), ('public', 'PR'), ('health', 'NN'), ('expert', 'NN'), ('at', 'ADP'), ('the', 'DET'), ('university', 'NN'), ('of', 'ADP'), ('washington', 'PROPN'), ('who', 'PRON'), ('was', 'VM'), ('not', 'RB'), ('involved', 'VM'), ('in', 'ADP'), ('the', 'DET'), ('study', 'NN'), (',', 'PUNC'), ('tells', 'VM'), ('the', 'DET'), ('aP', 'PROPN'), ('.', 'PUNC'), ('\"', 'PUNC'), ('the', 'DET'), ('authors', 'NN'), ('did', 'VM'), ('not', 'PART'), ('discuss', 'VM'), ('the', 'DET'), ('extent', 'NN'), ('to', 'ADP'), ('which', 'PRON'), ('the', 'DET'), ('climate', 'NN'), ('hazards', 'NN'), ('reviewed', 'VM'), ('changed', 'VM'), ('over', 'ADP'), ('the', 'DET'), ('time', 'NN'), ('period', 'NN'), ('of', 'ADP'), ('the', 'DET'), ('study', 'NN'), ('and', 'CCONJ'), ('the', 'DET'), ('extent', 'NN'), ('to', 'ADP'), ('which', 'PRON'), ('any', 'DET'), ('changes', 'NN'), ('have', 'VM'), ('been', 'VM'), ('attributed', 'VM'), ('to', 'ADP'), ('climate', 'NN'), ('change', 'NN'), ('.', 'PUNC'), ('\"', 'PUNC'), ('other', 'PR'), ('experts', 'NN'), (',', 'PUNC'), ('including', 'VM'), ('aaron', 'PROPN'), ('bernstein', 'PROPN'), ('of', 'ADP'), ('the', 'DET'), ('center', 'NN'), ('for', 'ADP'), ('climate', 'NN'), (',', 'PUNC'), ('health', 'NN'), (',', 'PUNC'), ('and', 'CCONJ'), ('the', 'DET'), ('global', 'PR'), ('environment', 'NN'), ('at', 'ADP'), ('harvard', 'PROPN'), ('school', 'NN'), ('of', 'ADP'), ('public', 'PR'), ('health', 'NN'), (',', 'PUNC'), ('tell', 'VM'), ('the', 'DET'), ('aP', 'PROPN'), ('that', 'SCONJ'), ('the', 'DET'), ('study', 'NN'), ('is', 'VM'), ('a', 'DET'), ('warning', 'NN'), ('about', 'ADP'), ('the', 'DET'), ('ongoing', 'PR'), ('connection', 'NN'), ('between', 'ADP'), ('climate', 'NN'), ('and', 'CCONJ'), ('health', 'NN'), (',', 'PUNC'), ('particularly', 'RB'), ('as', 'SCONJ'), ('habitat', 'NN'), ('loss', 'NN'), ('increases', 'VM'), ('the', 'DET'), ('number', 'NN'), ('of', 'ADP'), ('spillovers', 'NN'), ('of', 'ADP'), ('pathogens', 'NN'), ('into', 'ADP'), ('humans', 'NN'), ('from', 'ADP'), ('other', 'PR'), ('species', 'NN'), ('.', 'PUNC'), ('“', 'PUNC'), ('this', 'PRON'), ('study', 'NN'), ('underscores', 'VM'), ('how', 'RB'), ('climate', 'NN'), ('change', 'NN'), ('may', 'VM'), ('load', 'VM'), ('the', 'DET'), ('dice', 'NN'), ('to', 'PART'), ('favor', 'VM'), ('unwelcome', 'PR'), ('infectious', 'PR'), ('surprises', 'NN'), (',', 'PUNC'), ('”', 'PUNC'), ('bernstein', 'PROPN'), ('writes', 'VM'), ('in', 'ADP'), ('an', 'DET'), ('email', 'NN'), ('to', 'ADP'), ('the', 'DET'), ('aP', 'PROPN'), ('.', 'PUNC')]\n"
          ]
        }
      ],
      "source": [
        "test_run= data_set_test\n",
        "\n",
        "# list of tagged words\n",
        "test_run_base = [tuple(tup) for sent in test_run for tup in sent]\n",
        "print(\"Test sentences:\")\n",
        "print(test_run_base)\n",
        "# list of untagged words\n",
        "test_tagged_words = [tup[0] for sent in test_run for tup in sent]\n",
        "# test_tagged_words = test_tagged_words[:100]"
      ]
    },
    {
      "cell_type": "markdown",
      "metadata": {
        "id": "-qWNr3FpatoO"
      },
      "source": [
        "Predict the tags for test set using Viterbi algorithm"
      ]
    },
    {
      "cell_type": "code",
      "execution_count": 857,
      "metadata": {
        "colab": {
          "base_uri": "https://localhost:8080/"
        },
        "id": "ovQ2OOOParxs",
        "outputId": "362827d0-f004-4714-eabe-1ea2cc910096"
      },
      "outputs": [
        {
          "name": "stdout",
          "output_type": "stream",
          "text": [
            "Predicted sequence:\n",
            "[('climate', 'PR'), ('change', 'VM'), ('worsens', 'PR'), ('most', 'RB'), ('infectious', 'PR'), ('diseases', 'PR'), ('of', 'ADP'), ('the', 'DET'), ('pathogens', 'PR'), ('known', 'VM'), ('to', 'RP'), ('have', 'VM'), ('infected', 'PR'), ('humans', 'NN'), (',', 'PUNC'), ('more', 'RB'), ('than', 'ADP'), ('half', 'DET'), ('may', 'PR'), ('cause', 'VM'), ('widespread', 'PR'), ('disease', 'NN'), ('as', 'ADP'), ('a', 'DET'), ('result', 'NN'), ('rising', 'VM'), ('temperatures', 'NN'), (',', 'PUNC'), ('precipitation', 'NN'), ('changes', 'NN'), (',', 'PUNC'), ('or', 'CCD'), ('other', 'JJ'), ('climate', 'NN'), ('-', 'PUNC'), ('related', 'JJ'), ('factors', 'NN'), (',', 'PUNC'), ('a', 'DET'), ('study', 'NN'), ('finds', 'PR'), ('.', 'PUNC'), ('the', 'DET'), ('consequences', 'NN'), ('of', 'ADP'), ('climate', 'NN'), ('change', 'NN'), ('-', 'PUNC'), ('including', 'VM'), ('warming', 'NN'), (',', 'PUNC'), ('drought', 'NN'), (',', 'PUNC'), ('and', 'CCD'), ('sea', 'NN'), ('-', 'PUNC'), ('level', 'NN'), ('rise', 'VM'), ('-', 'PUNC'), ('worsen', 'PR'), ('most', 'RB'), ('infectious', 'PR'), ('diseases', 'PR'), ('by', 'ADP'), ('facilitating', 'PR'), ('transmission', 'PR'), ('and', 'CCD'), ('increasing', 'VM'), ('the', 'DET'), ('severity', 'PR'), ('of', 'ADP'), ('outbreaks', 'PR'), (',', 'PUNC'), ('according', 'VM'), ('to', 'RP'), ('a', 'DET'), ('study', 'NN'), ('published', 'VM'), ('today', 'PR'), ('(', 'PUNC'), ('august', 'PR'), ('8', 'QTC'), (')', 'PUNC'), ('in', 'ADP'), ('nature', 'NN'), ('climate', 'NN'), ('change', 'NN'), ('.', 'PUNC'), ('the', 'DET'), ('study', 'NN'), ('finds', 'PR'), ('that', 'PR'), ('climate', 'NN'), ('change', 'NN'), ('has', 'VAUX'), ('the', 'DET'), ('potential', 'NN'), ('to', 'ADP'), ('exacerbate', 'PR'), ('outbreaks', 'PR'), ('of', 'ADP'), ('58', 'PR'), ('percent', 'NN'), ('of', 'ADP'), ('the', 'DET'), ('375', 'PR'), ('pathogens', 'PR'), ('that', 'PR'), ('have', 'VAUX'), ('infected', 'PR'), ('humans', 'NN'), ('in', 'ADP'), ('recorded', 'VM'), ('history', 'NN'), ('.', 'PUNC'), ('\"', 'PUNC'), ('systems', 'NN'), ('have', 'VAUX'), ('been', 'VAUX'), ('evolving', 'PR'), ('for', 'ADP'), ('millions', 'NN'), ('of', 'ADP'), ('years', 'NN'), ('and', 'CCD'), ('now', 'RB'), ('humans', 'NN'), ('have', 'VAUX'), ('come', 'VM'), ('along', 'ADP'), ('and', 'CCD'), ('changed', 'VM'), ('things', 'NN'), (',', 'PUNC'), ('\"', 'PUNC'), ('study', 'NN'), ('coauthor', 'PR'), ('camilo', 'PR'), ('mora', 'PR'), ('at', 'ADP'), ('the', 'DET'), ('university', 'NN'), ('of', 'ADP'), ('hawai‘i', 'PR'), ('at', 'ADP'), ('mānoa', 'PR'), ('tells', 'VM'), ('nBC', 'PR'), ('news', 'NN'), (',', 'PUNC'), ('adding', 'PR'), ('that', 'PR'), ('\"', 'PUNC'), ('we', 'PR'), ('are', 'VAUX'), ('punching', 'PR'), ('nature', 'NN'), (',', 'PUNC'), ('but', 'CCD'), ('nature', 'NN'), ('is', 'VAUX'), ('punching', 'PR'), ('us', 'PR'), ('back', 'RB'), ('.', 'PUNC'), ('\"', 'PUNC'), ('to', 'ADP'), ('assess', 'PR'), ('the', 'DET'), ('impact', 'NN'), ('of', 'ADP'), ('greenhouse', 'PR'), ('gas', 'PR'), ('emissions', 'NN'), ('on', 'ADP'), ('disease', 'NN'), (',', 'PUNC'), ('mora', 'PR'), ('and', 'CCD'), ('his', 'PR'), ('colleagues', 'PR'), ('analyzed', 'PR'), ('more', 'JJ'), ('than', 'ADP'), ('3,200', 'PR'), ('published', 'VM'), ('scientific', 'JJ'), ('works', 'NN'), (',', 'PUNC'), ('identifying', 'PR'), ('outbreaks', 'PR'), ('reported', 'VM'), ('as', 'ADP'), ('having', 'VM'), ('been', 'VAUX'), ('intensified', 'PR'), ('by', 'ADP'), ('at', 'ADP'), ('least', 'JJ'), ('one', 'QTC'), ('climate', 'NN'), ('hazard', 'PR'), (',', 'PUNC'), ('such', 'JJ'), ('as', 'ADP'), ('drought', 'NN'), ('.', 'PUNC'), ('tallying', 'PR'), ('the', 'DET'), ('pathogens', 'PR'), ('that', 'PR'), ('cropped', 'PR'), ('up', 'ADP'), ('in', 'ADP'), ('that', 'PR'), ('evaluation', 'PR'), (',', 'PUNC'), ('the', 'DET'), ('study', 'NN'), ('authors', 'PR'), ('found', 'VM'), ('that', 'CCS'), ('217', 'PR'), ('were', 'VAUX'), ('also', 'RB'), ('listed', 'PR'), ('in', 'ADP'), ('databases', 'PR'), ('of', 'ADP'), ('known', 'VM'), ('infectious', 'PR'), ('diseases', 'PR'), ('compiled', 'PR'), ('by', 'ADP'), ('the', 'DET'), ('global', 'JJ'), ('infectious', 'PR'), ('diseases', 'PR'), ('and', 'CCD'), ('epidemiology', 'PR'), ('network', 'NN'), ('and', 'CCD'), ('the', 'DET'), ('centers', 'PR'), ('for', 'ADP'), ('disease', 'NN'), ('control', 'NN'), ('and', 'CCD'), ('prevention', 'PR'), ('(', 'PUNC'), ('cDC', 'PR'), (')', 'PUNC'), (',', 'PUNC'), ('they', 'PR'), ('write', 'VM'), ('in', 'ADP'), ('their', 'PR'), ('paper', 'PR'), ('.', 'PUNC'), ('the', 'DET'), ('researchers', 'PR'), ('then', 'RB'), ('went', 'VM'), ('on', 'ADP'), ('to', 'ADP'), ('map', 'NN'), ('pathogenic', 'PR'), ('microbes', 'PR'), ('to', 'RP'), ('climate', 'NN'), ('change', 'NN'), ('outcomes', 'PR'), ('that', 'PR'), ('have', 'VAUX'), ('the', 'DET'), ('potential', 'NN'), ('to', 'ADP'), ('worsen', 'PR'), ('outbreaks', 'PR'), (',', 'PUNC'), ('finding', 'VM'), ('that', 'CCS'), ('warming', 'NN'), ('temperatures', 'NN'), ('flooding', 'PR'), ('and', 'CCD'), ('severe', 'PR'), ('precipitation', 'NN'), ('were', 'VAUX'), ('linked', 'VM'), ('to', 'RP'), ('worsening', 'PR'), ('outbreaks', 'PR'), ('of', 'ADP'), ('the', 'DET'), ('most', 'JJ'), ('pathogens', 'PR'), (',', 'PUNC'), ('while', 'CCS'), ('rising', 'VM'), ('sea', 'NN'), ('levels', 'NN'), ('was', 'VAUX'), ('associated', 'PR'), ('with', 'ADP'), ('exacerbating', 'PR'), ('outbreaks', 'PR'), ('of', 'ADP'), ('the', 'DET'), ('fewest', 'PR'), ('types', 'PR'), ('of', 'ADP'), ('pathogens', 'PR'), (',', 'PUNC'), ('reports', 'VM'), ('new', 'JJ'), ('scientist', 'PR'), ('.', 'PUNC'), ('“', 'PUNC'), ('there', 'PR'), ('is', 'VAUX'), ('no', 'RB'), ('speculation', 'PR'), ('here', 'RB'), ('whatsoever', 'PR'), ('.', 'PUNC'), ('these', 'DET'), ('are', 'VM'), ('things', 'NN'), ('that', 'CCS'), ('have', 'VM'), ('already', 'RB'), ('happened', 'VM'), (',', 'PUNC'), ('\"', 'PUNC'), ('mora', 'PR'), ('tells', 'VM'), ('the', 'DET'), ('associated', 'PR'), ('press', 'PR'), ('.', 'PUNC'), ('while', 'CCS'), ('some', 'DET'), ('diseases', 'PR'), ('can', 'VAUX'), ('be', 'VAUX'), ('diminished', 'PR'), ('by', 'ADP'), ('climate', 'NN'), ('change', 'NN'), ('-', 'PUNC'), ('such', 'JJ'), ('as', 'ADP'), ('how', 'RB'), ('warmer', 'PR'), ('temperatures', 'NN'), ('are', 'VAUX'), ('less', 'RB'), ('conducive', 'PR'), ('to', 'RP'), ('the', 'DET'), ('spread', 'NN'), ('of', 'ADP'), ('influenza', 'PR'), ('-', 'PUNC'), ('the', 'DET'), ('study', 'NN'), ('authors', 'PR'), ('argue', 'VM'), ('that', 'CCS'), ('the', 'DET'), ('majority', 'NN'), ('of', 'ADP'), ('pathogens', 'PR'), ('will', 'VAUX'), ('thrive', 'PR'), ('under', 'ADP'), ('climate', 'NN'), ('change', 'NN'), ('conditions', 'NN'), ('through', 'ADP'), ('a', 'DET'), ('variety', 'NN'), ('of', 'ADP'), ('mechanisms', 'NN'), (':', 'PUNC'), ('warming', 'NN'), ('temperatures', 'NN'), (',', 'PUNC'), ('for', 'ADP'), ('example', 'NN'), (',', 'PUNC'), ('could', 'VAUX'), ('expand', 'PR'), ('the', 'DET'), ('geographic', 'PR'), ('range', 'PR'), ('of', 'ADP'), ('some', 'DET'), ('microbes', 'PR'), ('while', 'CCS'), ('also', 'RB'), ('increasing', 'VM'), ('the', 'DET'), ('population', 'NN'), ('sizes', 'PR'), ('of', 'ADP'), ('disease', 'NN'), ('-', 'PUNC'), ('spreading', 'PR'), ('mosquitos', 'PR'), ('.', 'PUNC'), ('in', 'ADP'), ('addition', 'NN'), (',', 'PUNC'), ('the', 'DET'), ('authors', 'PR'), ('write', 'VM'), ('that', 'CCS'), ('the', 'DET'), ('consequences', 'NN'), ('of', 'ADP'), ('climate', 'NN'), ('change', 'NN'), ('could', 'VAUX'), ('hinder', 'PR'), ('people’s', 'PR'), ('ability', 'NN'), ('to', 'ADP'), ('fight', 'NN'), ('infection', 'PR'), ('-', 'PUNC'), ('for', 'ADP'), ('example', 'NN'), (',', 'PUNC'), ('severe', 'PR'), ('weather', 'NN'), ('events', 'NN'), ('might', 'VAUX'), ('damage', 'PR'), ('infrastructure', 'NN'), ('and', 'CCD'), ('impede', 'PR'), ('access', 'NN'), ('to', 'ADP'), ('food', 'NN'), (',', 'PUNC'), ('leading', 'VM'), ('to', 'RP'), ('malnutrition', 'PR'), ('that', 'PR'), ('could', 'VAUX'), ('dampen', 'PR'), ('immune', 'PR'), ('system', 'NN'), ('function', 'PR'), ('.', 'PUNC'), ('“', 'PUNC'), ('however', 'RB'), ('correlation', 'PR'), ('is', 'VAUX'), ('not', 'RP'), ('causation', 'PR'), (',', 'PUNC'), ('\"', 'PUNC'), ('kristie', 'PR'), ('ebi', 'PR'), (',', 'PUNC'), ('a', 'DET'), ('climate', 'NN'), ('and', 'CCD'), ('public', 'JJ'), ('health', 'NN'), ('expert', 'NN'), ('at', 'ADP'), ('the', 'DET'), ('university', 'NN'), ('of', 'ADP'), ('washington', 'PR'), ('who', 'PR'), ('was', 'VAUX'), ('not', 'RP'), ('involved', 'VM'), ('in', 'ADP'), ('the', 'DET'), ('study', 'NN'), (',', 'PUNC'), ('tells', 'VM'), ('the', 'DET'), ('aP', 'PR'), ('.', 'PUNC'), ('\"', 'PUNC'), ('the', 'DET'), ('authors', 'PR'), ('did', 'VAUX'), ('not', 'RP'), ('discuss', 'PR'), ('the', 'DET'), ('extent', 'NN'), ('to', 'ADP'), ('which', 'PR'), ('the', 'DET'), ('climate', 'NN'), ('hazards', 'PR'), ('reviewed', 'PR'), ('changed', 'VM'), ('over', 'ADP'), ('the', 'DET'), ('time', 'NN'), ('period', 'NN'), ('of', 'ADP'), ('the', 'DET'), ('study', 'NN'), ('and', 'CCD'), ('the', 'DET'), ('extent', 'NN'), ('to', 'ADP'), ('which', 'PR'), ('any', 'DET'), ('changes', 'NN'), ('have', 'VAUX'), ('been', 'VAUX'), ('attributed', 'PR'), ('to', 'RP'), ('climate', 'NN'), ('change', 'NN'), ('.', 'PUNC'), ('\"', 'PUNC'), ('other', 'JJ'), ('experts', 'NN'), (',', 'PUNC'), ('including', 'VM'), ('aaron', 'PR'), ('bernstein', 'PR'), ('of', 'ADP'), ('the', 'DET'), ('center', 'PR'), ('for', 'ADP'), ('climate', 'NN'), (',', 'PUNC'), ('health', 'NN'), (',', 'PUNC'), ('and', 'CCD'), ('the', 'DET'), ('global', 'JJ'), ('environment', 'PR'), ('at', 'ADP'), ('harvard', 'PR'), ('school', 'NN'), ('of', 'ADP'), ('public', 'JJ'), ('health', 'NN'), (',', 'PUNC'), ('tell', 'PR'), ('the', 'DET'), ('aP', 'PR'), ('that', 'PR'), ('the', 'DET'), ('study', 'NN'), ('is', 'VAUX'), ('a', 'DET'), ('warning', 'PR'), ('about', 'RB'), ('the', 'DET'), ('ongoing', 'JJ'), ('connection', 'NN'), ('between', 'ADP'), ('climate', 'NN'), ('and', 'CCD'), ('health', 'NN'), (',', 'PUNC'), ('particularly', 'RB'), ('as', 'ADP'), ('habitat', 'NN'), ('loss', 'NN'), ('increases', 'VM'), ('the', 'DET'), ('number', 'NN'), ('of', 'ADP'), ('spillovers', 'PR'), ('of', 'ADP'), ('pathogens', 'PR'), ('into', 'ADP'), ('humans', 'NN'), ('from', 'ADP'), ('other', 'JJ'), ('species', 'NN'), ('.', 'PUNC'), ('“', 'PUNC'), ('this', 'DET'), ('study', 'NN'), ('underscores', 'PR'), ('how', 'RB'), ('climate', 'NN'), ('change', 'NN'), ('may', 'VAUX'), ('load', 'PR'), ('the', 'DET'), ('dice', 'PR'), ('to', 'RP'), ('favor', 'PR'), ('unwelcome', 'PR'), ('infectious', 'PR'), ('surprises', 'PR'), (',', 'PUNC'), ('”', 'PUNC'), ('bernstein', 'PR'), ('writes', 'PR'), ('in', 'ADP'), ('an', 'DET'), ('email', 'PR'), ('to', 'RP'), ('the', 'DET'), ('aP', 'PR'), ('.', 'PUNC')]\n",
            "Predicted sequence length:\n",
            "615\n",
            "Time taken in seconds:  15.305511713027954\n"
          ]
        }
      ],
      "source": [
        "start = time.time()\n",
        "tagged_seq = Viterbi(test_tagged_words)\n",
        "end = time.time()\n",
        "difference = end-start\n",
        "print(\"Predicted sequence:\")\n",
        "print(tagged_seq)\n",
        "print(\"Predicted sequence length:\")\n",
        "print(len(tagged_seq) )\n",
        "\n",
        "print(\"Time taken in seconds: \", difference)"
      ]
    },
    {
      "cell_type": "markdown",
      "metadata": {
        "id": "HuRNbBuFa2F6"
      },
      "source": [
        "Calculate Accuracy"
      ]
    },
    {
      "cell_type": "code",
      "execution_count": 858,
      "metadata": {
        "colab": {
          "base_uri": "https://localhost:8080/"
        },
        "id": "wieJk85ia0tZ",
        "outputId": "fb3fe219-c6d4-41d4-fff2-5a65001b476d"
      },
      "outputs": [
        {
          "name": "stdout",
          "output_type": "stream",
          "text": [
            "Precision: 0.7464015114437349\n",
            "Recall: 0.5869918699186992\n",
            "F1 Score: 0.6290258781220798\n",
            "        ADP   CCD  CCONJ   DET     NN  NUM  PART    PR  PRON  PROPN  PUNC  \\\n",
            "ADP    64.0   0.0    0.0   0.0    0.0  0.0   0.0   0.0   0.0    0.0   0.0   \n",
            "CCD     0.0   1.0    0.0   0.0    0.0  0.0   0.0   0.0   0.0    0.0   0.0   \n",
            "CCONJ   0.0  15.0    0.0   0.0    0.0  0.0   0.0   0.0   0.0    0.0   0.0   \n",
            "DET     0.0   0.0    0.0  52.0    0.0  0.0   0.0   5.0   0.0    0.0   0.0   \n",
            "NN      0.0   0.0    0.0   0.0  104.0  0.0   0.0  61.0   0.0    0.0   0.0   \n",
            "NUM     0.0   0.0    0.0   0.0    1.0  0.0   0.0   4.0   0.0    0.0   0.0   \n",
            "PART    5.0   0.0    0.0   0.0    0.0  0.0   0.0   0.0   0.0    0.0   0.0   \n",
            "PR      0.0   0.0    0.0   0.0    2.0  0.0   0.0  20.0   0.0    0.0   0.0   \n",
            "PRON    0.0   0.0    0.0   1.0    0.0  0.0   0.0   9.0   0.0    0.0   0.0   \n",
            "PROPN   0.0   0.0    0.0   0.0    4.0  0.0   0.0  18.0   0.0    0.0   0.0   \n",
            "PUNC    0.0   0.0    0.0   0.0    0.0  0.0   0.0   0.0   0.0    0.0  73.0   \n",
            "RB      1.0   0.0    0.0   1.0    0.0  0.0   0.0   2.0   0.0    0.0   0.0   \n",
            "SCONJ   2.0   0.0    0.0   0.0    0.0  0.0   0.0   3.0   0.0    0.0   0.0   \n",
            "UNK     0.0   0.0    0.0   0.0    0.0  0.0   0.0   1.0   0.0    0.0   0.0   \n",
            "VM      0.0   0.0    0.0   0.0    6.0  0.0   0.0  39.0   0.0    0.0   0.0   \n",
            "\n",
            "         RB  SCONJ  UNK    VM  \n",
            "ADP     1.0    0.0  0.0   2.0  \n",
            "CCD     0.0    0.0  0.0   0.0  \n",
            "CCONJ   0.0    0.0  0.0   0.0  \n",
            "DET     1.0    0.0  0.0   0.0  \n",
            "NN      0.0    0.0  0.0   3.0  \n",
            "NUM     0.0    0.0  0.0   0.0  \n",
            "PART    0.0    0.0  0.0   0.0  \n",
            "PR      0.0    0.0  0.0   1.0  \n",
            "PRON    0.0    0.0  0.0   0.0  \n",
            "PROPN   0.0    0.0  0.0   0.0  \n",
            "PUNC    0.0    0.0  0.0   0.0  \n",
            "RB     15.0    0.0  0.0   0.0  \n",
            "SCONJ   0.0    0.0  0.0   0.0  \n",
            "UNK     0.0    0.0  0.0   0.0  \n",
            "VM      0.0    0.0  0.0  32.0  \n"
          ]
        }
      ],
      "source": [
        "from sklearn.metrics import precision_score, recall_score, f1_score\n",
        "import pandas as pd\n",
        "import numpy as np\n",
        "\n",
        "# accuracy\n",
        "# check = [i for i, j in zip(tagged_seq, test_run_base) if i == j]\n",
        "\n",
        "# print(check)\n",
        "# accuracy = len(check)/len(tagged_seq)\n",
        "# print('Viterbi Algorithm Accuracy: ',accuracy*100)\n",
        "\n",
        "first_tags = [v for k, v in test_run_base]\n",
        "second_tags = [v for k, v in tagged_seq]\n",
        "\n",
        "precision = precision_score(first_tags, second_tags, average=\"weighted\", zero_division=0)\n",
        "\n",
        "print(\"Precision:\", precision)\n",
        "\n",
        "recall = recall_score(first_tags, second_tags, average=\"weighted\", zero_division=0)\n",
        "\n",
        "print(\"Recall:\", recall)\n",
        "\n",
        "f1 = f1_score(first_tags, second_tags, average=\"weighted\", zero_division=0)\n",
        "\n",
        "print(\"F1 Score:\", f1)\n",
        "\n",
        "def confusion_matrix(actual, predicted):\n",
        "    tags= list(set(actual))\n",
        "    tags.sort()\n",
        "    c= pd.DataFrame(np.zeros((len(tags), len(tags))), index=tags, columns=tags)\n",
        "    for i in range(len(actual)):\n",
        "        if actual[i] in c.index and predicted[i] in c.columns:\n",
        "            c.loc[actual[i], predicted[i]]+= 1\n",
        "    return c\n",
        "\n",
        "c = confusion_matrix(first_tags, second_tags)\n",
        "\n",
        "print(c)"
      ]
    }
  ],
  "metadata": {
    "colab": {
      "provenance": []
    },
    "kernelspec": {
      "display_name": "Python 3",
      "name": "python3"
    },
    "language_info": {
      "codemirror_mode": {
        "name": "ipython",
        "version": 3
      },
      "file_extension": ".py",
      "mimetype": "text/x-python",
      "name": "python",
      "nbconvert_exporter": "python",
      "pygments_lexer": "ipython3",
      "version": "3.12.2"
    }
  },
  "nbformat": 4,
  "nbformat_minor": 0
}
